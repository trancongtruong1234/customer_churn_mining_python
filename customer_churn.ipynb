{
  "cells": [
    {
      "cell_type": "markdown",
      "metadata": {},
      "source": [
        "# SO SANH MODEL KHI DU LIEU CHUA CAN BANG VA DU LIEU DA CAN BANG, PHUONG PHAP CAN BANG DU LIEU"
      ]
    },
    {
      "cell_type": "code",
      "execution_count": 3,
      "metadata": {
        "colab": {
          "base_uri": "https://localhost:8080/"
        },
        "id": "J2cXf2c7tx8y",
        "outputId": "7fb75170-f7e2-41ea-acb4-8963967f786b"
      },
      "outputs": [
        {
          "name": "stdout",
          "output_type": "stream",
          "text": [
            "Requirement already satisfied: xgboost in c:\\users\\tranc\\appdata\\local\\packages\\pythonsoftwarefoundation.python.3.9_qbz5n2kfra8p0\\localcache\\local-packages\\python39\\site-packages (1.6.1)\n",
            "Requirement already satisfied: scipy in c:\\users\\tranc\\appdata\\local\\packages\\pythonsoftwarefoundation.python.3.9_qbz5n2kfra8p0\\localcache\\local-packages\\python39\\site-packages (from xgboost) (1.9.0)\n",
            "Requirement already satisfied: numpy in c:\\users\\tranc\\appdata\\local\\packages\\pythonsoftwarefoundation.python.3.9_qbz5n2kfra8p0\\localcache\\local-packages\\python39\\site-packages (from xgboost) (1.23.1)\n",
            "Note: you may need to restart the kernel to use updated packages.\n",
            "Requirement already satisfied: imbalanced-learn in c:\\users\\tranc\\appdata\\local\\packages\\pythonsoftwarefoundation.python.3.9_qbz5n2kfra8p0\\localcache\\local-packages\\python39\\site-packages (0.9.1)\n",
            "Requirement already satisfied: scipy>=1.3.2 in c:\\users\\tranc\\appdata\\local\\packages\\pythonsoftwarefoundation.python.3.9_qbz5n2kfra8p0\\localcache\\local-packages\\python39\\site-packages (from imbalanced-learn) (1.9.0)\n",
            "Requirement already satisfied: threadpoolctl>=2.0.0 in c:\\users\\tranc\\appdata\\local\\packages\\pythonsoftwarefoundation.python.3.9_qbz5n2kfra8p0\\localcache\\local-packages\\python39\\site-packages (from imbalanced-learn) (3.1.0)\n",
            "Requirement already satisfied: scikit-learn>=1.1.0 in c:\\users\\tranc\\appdata\\local\\packages\\pythonsoftwarefoundation.python.3.9_qbz5n2kfra8p0\\localcache\\local-packages\\python39\\site-packages (from imbalanced-learn) (1.1.2)\n",
            "Requirement already satisfied: joblib>=1.0.0 in c:\\users\\tranc\\appdata\\local\\packages\\pythonsoftwarefoundation.python.3.9_qbz5n2kfra8p0\\localcache\\local-packages\\python39\\site-packages (from imbalanced-learn) (1.1.0)\n",
            "Requirement already satisfied: numpy>=1.17.3 in c:\\users\\tranc\\appdata\\local\\packages\\pythonsoftwarefoundation.python.3.9_qbz5n2kfra8p0\\localcache\\local-packages\\python39\\site-packages (from imbalanced-learn) (1.23.1)\n",
            "Note: you may need to restart the kernel to use updated packages.\n"
          ]
        }
      ],
      "source": [
        "# load thu vien\n",
        "import numpy as np\n",
        "import matplotlib.pyplot as plt\n",
        "import pandas as pd\n",
        "from sklearn.model_selection import train_test_split\n",
        "from sklearn.preprocessing import MinMaxScaler\n",
        "from sklearn.metrics import classification_report\n",
        "from sklearn.linear_model import LogisticRegression\n",
        "from sklearn.neighbors import KNeighborsClassifier\n",
        "from sklearn.metrics import accuracy_score, precision_score, recall_score, f1_score\n",
        "# Cài đặt\n",
        "%pip install xgboost\n",
        "%pip install imbalanced-learn"
      ]
    },
    {
      "cell_type": "code",
      "execution_count": 4,
      "metadata": {
        "id": "NgWNSmRxwQhB"
      },
      "outputs": [],
      "source": [
        "# load file\n",
        "customer = pd.read_csv('D:\\ThucTap\\customerChurn.csv')"
      ]
    },
    {
      "cell_type": "code",
      "execution_count": 5,
      "metadata": {
        "colab": {
          "base_uri": "https://localhost:8080/",
          "height": 386
        },
        "id": "GfjMutgowpyU",
        "outputId": "4798a2b9-1f9e-4312-c722-71fca56c6e84"
      },
      "outputs": [
        {
          "data": {
            "text/html": [
              "<div>\n",
              "<style scoped>\n",
              "    .dataframe tbody tr th:only-of-type {\n",
              "        vertical-align: middle;\n",
              "    }\n",
              "\n",
              "    .dataframe tbody tr th {\n",
              "        vertical-align: top;\n",
              "    }\n",
              "\n",
              "    .dataframe thead th {\n",
              "        text-align: right;\n",
              "    }\n",
              "</style>\n",
              "<table border=\"1\" class=\"dataframe\">\n",
              "  <thead>\n",
              "    <tr style=\"text-align: right;\">\n",
              "      <th></th>\n",
              "      <th>customerID</th>\n",
              "      <th>gender</th>\n",
              "      <th>SeniorCitizen</th>\n",
              "      <th>Partner</th>\n",
              "      <th>Dependents</th>\n",
              "      <th>tenure</th>\n",
              "      <th>PhoneService</th>\n",
              "      <th>MultipleLines</th>\n",
              "      <th>InternetService</th>\n",
              "      <th>OnlineSecurity</th>\n",
              "      <th>...</th>\n",
              "      <th>DeviceProtection</th>\n",
              "      <th>TechSupport</th>\n",
              "      <th>StreamingTV</th>\n",
              "      <th>StreamingMovies</th>\n",
              "      <th>Contract</th>\n",
              "      <th>PaperlessBilling</th>\n",
              "      <th>PaymentMethod</th>\n",
              "      <th>MonthlyCharges</th>\n",
              "      <th>TotalCharges</th>\n",
              "      <th>Churn</th>\n",
              "    </tr>\n",
              "  </thead>\n",
              "  <tbody>\n",
              "    <tr>\n",
              "      <th>0</th>\n",
              "      <td>7590-VHVEG</td>\n",
              "      <td>Female</td>\n",
              "      <td>0</td>\n",
              "      <td>Yes</td>\n",
              "      <td>No</td>\n",
              "      <td>1</td>\n",
              "      <td>No</td>\n",
              "      <td>No phone service</td>\n",
              "      <td>DSL</td>\n",
              "      <td>No</td>\n",
              "      <td>...</td>\n",
              "      <td>No</td>\n",
              "      <td>No</td>\n",
              "      <td>No</td>\n",
              "      <td>No</td>\n",
              "      <td>Month-to-month</td>\n",
              "      <td>Yes</td>\n",
              "      <td>Electronic check</td>\n",
              "      <td>29.85</td>\n",
              "      <td>29.85</td>\n",
              "      <td>No</td>\n",
              "    </tr>\n",
              "    <tr>\n",
              "      <th>1</th>\n",
              "      <td>5575-GNVDE</td>\n",
              "      <td>Male</td>\n",
              "      <td>0</td>\n",
              "      <td>No</td>\n",
              "      <td>No</td>\n",
              "      <td>34</td>\n",
              "      <td>Yes</td>\n",
              "      <td>No</td>\n",
              "      <td>DSL</td>\n",
              "      <td>Yes</td>\n",
              "      <td>...</td>\n",
              "      <td>Yes</td>\n",
              "      <td>No</td>\n",
              "      <td>No</td>\n",
              "      <td>No</td>\n",
              "      <td>One year</td>\n",
              "      <td>No</td>\n",
              "      <td>Mailed check</td>\n",
              "      <td>56.95</td>\n",
              "      <td>1889.5</td>\n",
              "      <td>No</td>\n",
              "    </tr>\n",
              "    <tr>\n",
              "      <th>2</th>\n",
              "      <td>3668-QPYBK</td>\n",
              "      <td>Male</td>\n",
              "      <td>0</td>\n",
              "      <td>No</td>\n",
              "      <td>No</td>\n",
              "      <td>2</td>\n",
              "      <td>Yes</td>\n",
              "      <td>No</td>\n",
              "      <td>DSL</td>\n",
              "      <td>Yes</td>\n",
              "      <td>...</td>\n",
              "      <td>No</td>\n",
              "      <td>No</td>\n",
              "      <td>No</td>\n",
              "      <td>No</td>\n",
              "      <td>Month-to-month</td>\n",
              "      <td>Yes</td>\n",
              "      <td>Mailed check</td>\n",
              "      <td>53.85</td>\n",
              "      <td>108.15</td>\n",
              "      <td>Yes</td>\n",
              "    </tr>\n",
              "    <tr>\n",
              "      <th>3</th>\n",
              "      <td>7795-CFOCW</td>\n",
              "      <td>Male</td>\n",
              "      <td>0</td>\n",
              "      <td>No</td>\n",
              "      <td>No</td>\n",
              "      <td>45</td>\n",
              "      <td>No</td>\n",
              "      <td>No phone service</td>\n",
              "      <td>DSL</td>\n",
              "      <td>Yes</td>\n",
              "      <td>...</td>\n",
              "      <td>Yes</td>\n",
              "      <td>Yes</td>\n",
              "      <td>No</td>\n",
              "      <td>No</td>\n",
              "      <td>One year</td>\n",
              "      <td>No</td>\n",
              "      <td>Bank transfer (automatic)</td>\n",
              "      <td>42.30</td>\n",
              "      <td>1840.75</td>\n",
              "      <td>No</td>\n",
              "    </tr>\n",
              "    <tr>\n",
              "      <th>4</th>\n",
              "      <td>9237-HQITU</td>\n",
              "      <td>Female</td>\n",
              "      <td>0</td>\n",
              "      <td>No</td>\n",
              "      <td>No</td>\n",
              "      <td>2</td>\n",
              "      <td>Yes</td>\n",
              "      <td>No</td>\n",
              "      <td>Fiber optic</td>\n",
              "      <td>No</td>\n",
              "      <td>...</td>\n",
              "      <td>No</td>\n",
              "      <td>No</td>\n",
              "      <td>No</td>\n",
              "      <td>No</td>\n",
              "      <td>Month-to-month</td>\n",
              "      <td>Yes</td>\n",
              "      <td>Electronic check</td>\n",
              "      <td>70.70</td>\n",
              "      <td>151.65</td>\n",
              "      <td>Yes</td>\n",
              "    </tr>\n",
              "  </tbody>\n",
              "</table>\n",
              "<p>5 rows × 21 columns</p>\n",
              "</div>"
            ],
            "text/plain": [
              "   customerID  gender  SeniorCitizen Partner Dependents  tenure PhoneService  \\\n",
              "0  7590-VHVEG  Female              0     Yes         No       1           No   \n",
              "1  5575-GNVDE    Male              0      No         No      34          Yes   \n",
              "2  3668-QPYBK    Male              0      No         No       2          Yes   \n",
              "3  7795-CFOCW    Male              0      No         No      45           No   \n",
              "4  9237-HQITU  Female              0      No         No       2          Yes   \n",
              "\n",
              "      MultipleLines InternetService OnlineSecurity  ... DeviceProtection  \\\n",
              "0  No phone service             DSL             No  ...               No   \n",
              "1                No             DSL            Yes  ...              Yes   \n",
              "2                No             DSL            Yes  ...               No   \n",
              "3  No phone service             DSL            Yes  ...              Yes   \n",
              "4                No     Fiber optic             No  ...               No   \n",
              "\n",
              "  TechSupport StreamingTV StreamingMovies        Contract PaperlessBilling  \\\n",
              "0          No          No              No  Month-to-month              Yes   \n",
              "1          No          No              No        One year               No   \n",
              "2          No          No              No  Month-to-month              Yes   \n",
              "3         Yes          No              No        One year               No   \n",
              "4          No          No              No  Month-to-month              Yes   \n",
              "\n",
              "               PaymentMethod MonthlyCharges  TotalCharges Churn  \n",
              "0           Electronic check          29.85         29.85    No  \n",
              "1               Mailed check          56.95        1889.5    No  \n",
              "2               Mailed check          53.85        108.15   Yes  \n",
              "3  Bank transfer (automatic)          42.30       1840.75    No  \n",
              "4           Electronic check          70.70        151.65   Yes  \n",
              "\n",
              "[5 rows x 21 columns]"
            ]
          },
          "execution_count": 5,
          "metadata": {},
          "output_type": "execute_result"
        }
      ],
      "source": [
        "# xoa nan\n",
        "customer=customer.dropna().reset_index(drop=True)\n",
        "customer.head()"
      ]
    },
    {
      "cell_type": "code",
      "execution_count": 6,
      "metadata": {
        "colab": {
          "base_uri": "https://localhost:8080/",
          "height": 289
        },
        "id": "_fz5HCNewzyz",
        "outputId": "288edfc8-3a31-4cd8-8ca9-971a224fd2b0"
      },
      "outputs": [
        {
          "data": {
            "text/plain": [
              "<AxesSubplot:>"
            ]
          },
          "execution_count": 6,
          "metadata": {},
          "output_type": "execute_result"
        },
        {
          "data": {
            "image/png": "[encoded data removed]",
            "text/plain": [
              "<Figure size 432x288 with 1 Axes>"
            ]
          },
          "metadata": {
            "needs_background": "light"
          },
          "output_type": "display_data"
        }
      ],
      "source": [
        "# Xem do lech\n",
        "customer['Churn'].value_counts().plot(kind=\"bar\")"
      ]
    },
    {
      "cell_type": "code",
      "execution_count": 7,
      "metadata": {
        "id": "Jcfu-ZMmxggg"
      },
      "outputs": [],
      "source": [
        "# ------ Train binh thuong\n",
        "# Xoa cac cot khong can thiet\n",
        "customer = customer.drop([\"customerID\", \"gender\", \"MonthlyCharges\"], axis = 1)"
      ]
    },
    {
      "cell_type": "code",
      "execution_count": 8,
      "metadata": {
        "id": "5zvJfQTD0KTk"
      },
      "outputs": [],
      "source": [
        "# Chuyen chu thanh so\n",
        "customer[\"TotalCharges\"] = pd.to_numeric(customer[\"TotalCharges\"],errors='coerce')\n",
        "\n",
        "# Chuyen cot churn yes - no thanh 0 - 1\n",
        "customer['Churn'] = customer['Churn'].map(dict(Yes=1, No=0))"
      ]
    },
    {
      "cell_type": "code",
      "execution_count": 9,
      "metadata": {
        "id": "VC86cJBszK1l"
      },
      "outputs": [],
      "source": [
        "# Tao one hot\n",
        "# Chuyen gia tri chu thanh cot rieng\n",
        "customer_dummy=pd.get_dummies(customer,drop_first=True)\n",
        "customer_dummy = customer_dummy.dropna()\n",
        "\n",
        "# Scaler du lieu\n",
        "scaler = MinMaxScaler()\n",
        "scaler.fit(customer[[\"TotalCharges\", \"tenure\"]])\n",
        "customer_dummy[[\"TotalCharges\", \"tenure\"]] = scaler.transform(customer_dummy[[\"TotalCharges\", \"tenure\"]])"
      ]
    },
    {
      "cell_type": "code",
      "execution_count": 10,
      "metadata": {},
      "outputs": [],
      "source": [
        "# Tao ham in ket qua du doan\n",
        "def print_scores(y_true,y_pred):\n",
        "  print(classification_report(y_true,y_pred))"
      ]
    },
    {
      "cell_type": "markdown",
      "metadata": {},
      "source": [
        "# Su dung tap du lieu ban dau ( mat can bang )"
      ]
    },
    {
      "cell_type": "code",
      "execution_count": 11,
      "metadata": {},
      "outputs": [],
      "source": [
        "# Tao tap X dau vao khong co bien churn va tap Y dau ra chi co bien Churn\n",
        "X=customer_dummy.drop([\"Churn\"],axis=1)\n",
        "y=customer_dummy['Churn']\n",
        "\n",
        "# Chia du lieu thanh tap train, test\n",
        "X_train,X_test,y_train,y_test=train_test_split(X,y,test_size = 0.2,random_state=42)"
      ]
    },
    {
      "cell_type": "code",
      "execution_count": 12,
      "metadata": {
        "colab": {
          "base_uri": "https://localhost:8080/"
        },
        "id": "Pgg-l6NzE-ya",
        "outputId": "69b1f900-ded4-4c09-d7d6-16cec49c9e68"
      },
      "outputs": [
        {
          "name": "stdout",
          "output_type": "stream",
          "text": [
            "              precision    recall  f1-score   support\n",
            "\n",
            "           0       0.84      0.89      0.86      1033\n",
            "           1       0.63      0.52      0.57       374\n",
            "\n",
            "    accuracy                           0.79      1407\n",
            "   macro avg       0.73      0.70      0.71      1407\n",
            "weighted avg       0.78      0.79      0.78      1407\n",
            "\n"
          ]
        }
      ],
      "source": [
        "# ------------Train model voi imbalance data\n",
        "# LogisticRegression\n",
        "# Khoi tao\n",
        "model = LogisticRegression()\n",
        "\n",
        "# Fit voi du lieu train\n",
        "model.fit(X_train,y_train)\n",
        "\n",
        "# Du doan du lieu test\n",
        "y_pred=model.predict(X_test)\n",
        "\n",
        "# in ra ket qua\n",
        "print_scores(y_test,y_pred)"
      ]
    },
    {
      "cell_type": "code",
      "execution_count": 13,
      "metadata": {
        "colab": {
          "base_uri": "https://localhost:8080/"
        },
        "id": "aNykRD3zLmKu",
        "outputId": "d97ac95c-67ec-4728-f8ef-c15ae7b12e0d"
      },
      "outputs": [
        {
          "name": "stdout",
          "output_type": "stream",
          "text": [
            "              precision    recall  f1-score   support\n",
            "\n",
            "           0       0.90      0.71      0.80      1033\n",
            "           1       0.50      0.79      0.61       374\n",
            "\n",
            "    accuracy                           0.73      1407\n",
            "   macro avg       0.70      0.75      0.70      1407\n",
            "weighted avg       0.79      0.73      0.75      1407\n",
            "\n"
          ]
        }
      ],
      "source": [
        "# Class_weight: thay doi trong so, tang cho label it va giam cho label nhieu\n",
        "# Khoi tao\n",
        "model = LogisticRegression(class_weight='balanced')\n",
        "\n",
        "#Fit voi du lieu train\n",
        "model.fit(X_train,y_train)\n",
        "\n",
        "#Du doan du lieu test\n",
        "y_pred=model.predict(X_test)\n",
        "\n",
        "#in ra ket qua\n",
        "print_scores(y_test,y_pred)"
      ]
    },
    {
      "cell_type": "code",
      "execution_count": 14,
      "metadata": {
        "colab": {
          "base_uri": "https://localhost:8080/"
        },
        "id": "CV_f4bsWMTPI",
        "outputId": "7a295507-201d-42bc-ced8-957b1ff11218"
      },
      "outputs": [
        {
          "name": "stdout",
          "output_type": "stream",
          "text": [
            "              precision    recall  f1-score   support\n",
            "\n",
            "           0       0.82      0.90      0.86      1033\n",
            "           1       0.62      0.47      0.54       374\n",
            "\n",
            "    accuracy                           0.78      1407\n",
            "   macro avg       0.72      0.68      0.70      1407\n",
            "weighted avg       0.77      0.78      0.77      1407\n",
            "\n"
          ]
        }
      ],
      "source": [
        "# Random forest\n",
        "from sklearn.ensemble import RandomForestClassifier\n",
        "\n",
        "model_RFC = RandomForestClassifier(n_estimators = 200,random_state=42)\n",
        "model_RFC.fit(X_train,y_train)\n",
        "y_pred=model_RFC.predict(X_test)\n",
        "\n",
        "print_scores(y_test,y_pred)"
      ]
    },
    {
      "cell_type": "code",
      "execution_count": 15,
      "metadata": {
        "colab": {
          "base_uri": "https://localhost:8080/"
        },
        "id": "jkYafm-UNrch",
        "outputId": "f5bf4655-634e-4010-f85e-15108c866630"
      },
      "outputs": [
        {
          "name": "stdout",
          "output_type": "stream",
          "text": [
            "              precision    recall  f1-score   support\n",
            "\n",
            "           0       0.82      0.90      0.86      1033\n",
            "           1       0.62      0.47      0.54       374\n",
            "\n",
            "    accuracy                           0.78      1407\n",
            "   macro avg       0.72      0.68      0.70      1407\n",
            "weighted avg       0.77      0.78      0.77      1407\n",
            "\n"
          ]
        }
      ],
      "source": [
        "# Gradient Boosting\n",
        "from sklearn.ensemble import GradientBoostingClassifier\n",
        "\n",
        "model=GradientBoostingClassifier(learning_rate=0.01,random_state=42,n_estimators=200)\n",
        "model.fit(X_train,y_train)\n",
        "ypred=model.predict(X_test)\n",
        "\n",
        "print_scores(y_test,y_pred)"
      ]
    },
    {
      "cell_type": "code",
      "execution_count": 16,
      "metadata": {
        "colab": {
          "base_uri": "https://localhost:8080/"
        },
        "id": "MfTG7Fa1OSOW",
        "outputId": "54981b4a-49a9-4bfb-dde6-0178be5693ec"
      },
      "outputs": [
        {
          "name": "stdout",
          "output_type": "stream",
          "text": [
            "              precision    recall  f1-score   support\n",
            "\n",
            "           0       0.81      0.93      0.87      1033\n",
            "           1       0.68      0.40      0.50       374\n",
            "\n",
            "    accuracy                           0.79      1407\n",
            "   macro avg       0.74      0.66      0.68      1407\n",
            "weighted avg       0.77      0.79      0.77      1407\n",
            "\n"
          ]
        }
      ],
      "source": [
        "# Xgboss\n",
        "\n",
        "import xgboost as xgb\n",
        "model_xgb=xgb.XGBClassifier(random_state=42,n_estimators=200)\n",
        "model_xgb.fit(X_train,y_train)\n",
        "\n",
        "y_pred = model.predict(X_test)\n",
        "print_scores(y_test,y_pred)"
      ]
    },
    {
      "cell_type": "markdown",
      "metadata": {},
      "source": [
        "# Train model bang tap du lieu da dieu chinh can bang\n",
        "## Dieu chinh can bang bang tay\n",
        "\n",
        "### Giam so luong cua label nhieu hon: phuong phap unsample"
      ]
    },
    {
      "cell_type": "code",
      "execution_count": 17,
      "metadata": {
        "colab": {
          "base_uri": "https://localhost:8080/"
        },
        "id": "2e-9_WvAQaUe",
        "outputId": "64d21fc7-bd4b-41ec-d61e-a6e5b3acb9ab"
      },
      "outputs": [
        {
          "data": {
            "text/plain": [
              "((5163, 29), (1869, 29))"
            ]
          },
          "execution_count": 17,
          "metadata": {},
          "output_type": "execute_result"
        }
      ],
      "source": [
        "# ------------- Train model Train model voi balance data\n",
        "# Xu ly inbalance bang tay\n",
        "# Lay ngau nhien tap du lieu lon hon = tap du lieu nho hon\n",
        "# Chia data churn =0 va churn = 1\n",
        "data_0 = customer_dummy[customer_dummy.Churn == 0]\n",
        "data_1 = customer_dummy[customer_dummy.Churn == 1]\n",
        "data_0.shape, data_1.shape"
      ]
    },
    {
      "cell_type": "code",
      "execution_count": 18,
      "metadata": {
        "colab": {
          "base_uri": "https://localhost:8080/"
        },
        "id": "NreECBtwRZIE",
        "outputId": "57512282-8236-491d-b2f4-712d2c1727df"
      },
      "outputs": [
        {
          "data": {
            "text/plain": [
              "(1869, 29)"
            ]
          },
          "execution_count": 18,
          "metadata": {},
          "output_type": "execute_result"
        }
      ],
      "source": [
        "# Lay ngau nhien data_0 co so luong bang data_1\n",
        "data_rus = data_0.sample(data_1.shape[0])\n",
        "data_rus.shape"
      ]
    },
    {
      "cell_type": "code",
      "execution_count": 19,
      "metadata": {
        "colab": {
          "base_uri": "https://localhost:8080/"
        },
        "id": "TTCnHbjRRxqT",
        "outputId": "430fc39f-477b-4adc-ab17-8edefb5942c7"
      },
      "outputs": [
        {
          "data": {
            "text/plain": [
              "(3738, 29)"
            ]
          },
          "execution_count": 19,
          "metadata": {},
          "output_type": "execute_result"
        }
      ],
      "source": [
        "# Tong hop data\n",
        "data_random_under = pd.concat([data_1, data_rus])\n",
        "data_random_under.shape"
      ]
    },
    {
      "cell_type": "code",
      "execution_count": 20,
      "metadata": {
        "id": "QOKkEmHQSras"
      },
      "outputs": [],
      "source": [
        "# Tao tap X dau vao khong co bien churn va tap Y dau ra chi co bien Churn\n",
        "X=data_random_under.drop([\"Churn\"],axis=1)\n",
        "y=data_random_under['Churn']\n",
        "\n",
        "# Chia du lieu thanh tap train, test\n",
        "X_train,X_test,y_train,y_test=train_test_split(X,y,test_size = 0.2,random_state=42)"
      ]
    },
    {
      "cell_type": "code",
      "execution_count": 21,
      "metadata": {
        "colab": {
          "base_uri": "https://localhost:8080/"
        },
        "id": "FmRiifiXSaYB",
        "outputId": "b6aeafb6-3c1f-4096-e9e9-41da60508460"
      },
      "outputs": [
        {
          "name": "stdout",
          "output_type": "stream",
          "text": [
            "              precision    recall  f1-score   support\n",
            "\n",
            "           0       0.77      0.71      0.74       369\n",
            "           1       0.74      0.80      0.77       379\n",
            "\n",
            "    accuracy                           0.76       748\n",
            "   macro avg       0.76      0.75      0.75       748\n",
            "weighted avg       0.76      0.76      0.75       748\n",
            "\n"
          ]
        }
      ],
      "source": [
        "# Train mo hinh voi data co duoc\n",
        "# LogisticRegression\n",
        "\n",
        "# Khoi tao\n",
        "model = LogisticRegression()\n",
        "\n",
        "#Fit voi du lieu train\n",
        "model.fit(X_train,y_train)\n",
        "\n",
        "#Du doan du lieu test\n",
        "y_pred=model.predict(X_test)\n",
        "\n",
        "#in ra ket qua\n",
        "print_scores(y_test,y_pred)"
      ]
    },
    {
      "cell_type": "markdown",
      "metadata": {},
      "source": [
        "# Train model voi tap du lieu da duoc can bang\n",
        "# Dieu chinh tap du lieu bang ham\n",
        "\n",
        "### Thuc hien under sampling can bang bang phuong phap NearMiss: loai bo cac diem du lieu o xa"
      ]
    },
    {
      "cell_type": "code",
      "execution_count": 22,
      "metadata": {},
      "outputs": [
        {
          "data": {
            "text/plain": [
              "((3738, 28), (3738,))"
            ]
          },
          "execution_count": 22,
          "metadata": {},
          "output_type": "execute_result"
        }
      ],
      "source": [
        "# Tao tap X dau vao khong co bien churn va tap Y dau ra chi co bien Churn\n",
        "X=customer_dummy.drop([\"Churn\"],axis=1)\n",
        "y=customer_dummy['Churn']\n",
        "\n",
        "# Tao du lieu can bang\n",
        "# resample du lieu bang phuong phap NearMiss dung ham\n",
        "from imblearn.under_sampling import NearMiss\n",
        "nm = NearMiss()\n",
        "\n",
        "X_res, y_res = nm.fit_resample(X, y)\n",
        "\n",
        "# Chia du lieu thanh tap train, test\n",
        "X_train,X_test,y_train,y_test=train_test_split(X_res,y_res,test_size = 0.2,random_state=42)\n",
        "\n",
        "X_res.shape, y_res.shape"
      ]
    },
    {
      "cell_type": "code",
      "execution_count": 23,
      "metadata": {},
      "outputs": [
        {
          "name": "stdout",
          "output_type": "stream",
          "text": [
            "              precision    recall  f1-score   support\n",
            "\n",
            "           0       0.73      0.58      0.64       379\n",
            "           1       0.64      0.78      0.70       369\n",
            "\n",
            "    accuracy                           0.68       748\n",
            "   macro avg       0.69      0.68      0.67       748\n",
            "weighted avg       0.69      0.68      0.67       748\n",
            "\n"
          ]
        }
      ],
      "source": [
        "# LogisticRegression\n",
        "#Khoi tao\n",
        "model = LogisticRegression()\n",
        "\n",
        "#Fit voi du lieu train\n",
        "model.fit(X_train,y_train)\n",
        "\n",
        "#Du doan du lieu test\n",
        "y_pred=model.predict(X_test)\n",
        "\n",
        "#in ra ket qua\n",
        "print_scores(y_test,y_pred)"
      ]
    },
    {
      "cell_type": "code",
      "execution_count": 24,
      "metadata": {},
      "outputs": [
        {
          "name": "stdout",
          "output_type": "stream",
          "text": [
            "              precision    recall  f1-score   support\n",
            "\n",
            "           0       0.69      0.63      0.66       379\n",
            "           1       0.65      0.72      0.68       369\n",
            "\n",
            "    accuracy                           0.67       748\n",
            "   macro avg       0.67      0.67      0.67       748\n",
            "weighted avg       0.67      0.67      0.67       748\n",
            "\n"
          ]
        }
      ],
      "source": [
        "# Random forest\n",
        "from sklearn.ensemble import RandomForestClassifier\n",
        "\n",
        "model_RFC = RandomForestClassifier(n_estimators = 200,random_state=42)\n",
        "model_RFC.fit(X_train,y_train)\n",
        "y_pred=model_RFC.predict(X_test)\n",
        "\n",
        "print_scores(y_test,y_pred)"
      ]
    },
    {
      "cell_type": "code",
      "execution_count": 25,
      "metadata": {},
      "outputs": [
        {
          "name": "stdout",
          "output_type": "stream",
          "text": [
            "              precision    recall  f1-score   support\n",
            "\n",
            "           0       0.69      0.63      0.66       379\n",
            "           1       0.65      0.72      0.68       369\n",
            "\n",
            "    accuracy                           0.67       748\n",
            "   macro avg       0.67      0.67      0.67       748\n",
            "weighted avg       0.67      0.67      0.67       748\n",
            "\n"
          ]
        }
      ],
      "source": [
        "# Gradient Boosting\n",
        "from sklearn.ensemble import GradientBoostingClassifier\n",
        "\n",
        "model=GradientBoostingClassifier(learning_rate=0.01,random_state=42,n_estimators=200)\n",
        "model.fit(X_train,y_train)\n",
        "ypred=model.predict(X_test)\n",
        "\n",
        "print_scores(y_test,y_pred)"
      ]
    },
    {
      "cell_type": "code",
      "execution_count": 26,
      "metadata": {},
      "outputs": [
        {
          "name": "stdout",
          "output_type": "stream",
          "text": [
            "              precision    recall  f1-score   support\n",
            "\n",
            "           0       0.82      0.48      0.61       379\n",
            "           1       0.63      0.89      0.74       369\n",
            "\n",
            "    accuracy                           0.68       748\n",
            "   macro avg       0.72      0.69      0.67       748\n",
            "weighted avg       0.73      0.68      0.67       748\n",
            "\n"
          ]
        }
      ],
      "source": [
        "# Xgboss\n",
        "\n",
        "import xgboost as xgb\n",
        "model_xgb=xgb.XGBClassifier(random_state=42,n_estimators=200)\n",
        "model_xgb.fit(X_train,y_train)\n",
        "\n",
        "y_pred = model.predict(X_test)\n",
        "print_scores(y_test,y_pred)"
      ]
    },
    {
      "cell_type": "markdown",
      "metadata": {},
      "source": [
        "# Train model voi tap du lieu da duoc can bang\n",
        "# Dieu chinh tap du lieu bang ham\n",
        "\n",
        "### Thuc hien over sampling can bang bang phuong phap Random: nhan doi cac diem du lieu san co"
      ]
    },
    {
      "cell_type": "code",
      "execution_count": 27,
      "metadata": {},
      "outputs": [
        {
          "data": {
            "text/plain": [
              "((10326, 28), (10326,))"
            ]
          },
          "execution_count": 27,
          "metadata": {},
          "output_type": "execute_result"
        }
      ],
      "source": [
        "# Tao tap X dau vao khong co bien churn va tap Y dau ra chi co bien Churn\n",
        "X=customer_dummy.drop([\"Churn\"],axis=1)\n",
        "y=customer_dummy['Churn']\n",
        "\n",
        "# Tao du lieu can bang\n",
        "# resample du lieu bang phuong phap NearMiss dung ham\n",
        "from imblearn.over_sampling import RandomOverSampler\n",
        "ros = RandomOverSampler()\n",
        "\n",
        "X_ros, y_ros = ros.fit_resample(X, y)\n",
        "\n",
        "# Chia du lieu thanh tap train, test\n",
        "X_train,X_test,y_train,y_test=train_test_split(X_ros,y_ros,test_size = 0.2,random_state=42)\n",
        "X_ros.shape, y_ros.shape"
      ]
    },
    {
      "cell_type": "code",
      "execution_count": 28,
      "metadata": {},
      "outputs": [
        {
          "name": "stdout",
          "output_type": "stream",
          "text": [
            "              precision    recall  f1-score   support\n",
            "\n",
            "           0       0.78      0.74      0.76      1037\n",
            "           1       0.75      0.79      0.77      1029\n",
            "\n",
            "    accuracy                           0.77      2066\n",
            "   macro avg       0.77      0.77      0.77      2066\n",
            "weighted avg       0.77      0.77      0.77      2066\n",
            "\n"
          ]
        }
      ],
      "source": [
        "# LogisticRegression\n",
        "#Khoi tao\n",
        "model = LogisticRegression()\n",
        "\n",
        "#Fit voi du lieu train\n",
        "model.fit(X_train,y_train)\n",
        "\n",
        "#Du doan du lieu test\n",
        "y_pred=model.predict(X_test)\n",
        "\n",
        "#in ra ket qua\n",
        "print_scores(y_test,y_pred)"
      ]
    },
    {
      "cell_type": "code",
      "execution_count": 29,
      "metadata": {},
      "outputs": [
        {
          "name": "stdout",
          "output_type": "stream",
          "text": [
            "              precision    recall  f1-score   support\n",
            "\n",
            "           0       0.93      0.84      0.88      1037\n",
            "           1       0.85      0.94      0.89      1029\n",
            "\n",
            "    accuracy                           0.89      2066\n",
            "   macro avg       0.89      0.89      0.89      2066\n",
            "weighted avg       0.89      0.89      0.89      2066\n",
            "\n"
          ]
        }
      ],
      "source": [
        "# Random forest\n",
        "from sklearn.ensemble import RandomForestClassifier\n",
        "\n",
        "model_RFC = RandomForestClassifier(n_estimators = 200,random_state=42)\n",
        "model_RFC.fit(X_train,y_train)\n",
        "y_pred=model_RFC.predict(X_test)\n",
        "\n",
        "print_scores(y_test,y_pred)"
      ]
    },
    {
      "cell_type": "code",
      "execution_count": 30,
      "metadata": {},
      "outputs": [
        {
          "name": "stdout",
          "output_type": "stream",
          "text": [
            "              precision    recall  f1-score   support\n",
            "\n",
            "           0       0.93      0.84      0.88      1037\n",
            "           1       0.85      0.94      0.89      1029\n",
            "\n",
            "    accuracy                           0.89      2066\n",
            "   macro avg       0.89      0.89      0.89      2066\n",
            "weighted avg       0.89      0.89      0.89      2066\n",
            "\n"
          ]
        }
      ],
      "source": [
        "# Gradient Boosting\n",
        "from sklearn.ensemble import GradientBoostingClassifier\n",
        "\n",
        "model=GradientBoostingClassifier(learning_rate=0.01,random_state=42,n_estimators=200)\n",
        "model.fit(X_train,y_train)\n",
        "ypred=model.predict(X_test)\n",
        "\n",
        "print_scores(y_test,y_pred)"
      ]
    },
    {
      "cell_type": "code",
      "execution_count": null,
      "metadata": {},
      "outputs": [],
      "source": []
    },
    {
      "cell_type": "code",
      "execution_count": 31,
      "metadata": {},
      "outputs": [
        {
          "name": "stdout",
          "output_type": "stream",
          "text": [
            "              precision    recall  f1-score   support\n",
            "\n",
            "           0       0.78      0.72      0.75      1037\n",
            "           1       0.74      0.80      0.77      1029\n",
            "\n",
            "    accuracy                           0.76      2066\n",
            "   macro avg       0.76      0.76      0.76      2066\n",
            "weighted avg       0.76      0.76      0.76      2066\n",
            "\n"
          ]
        }
      ],
      "source": [
        "# Xgboss\n",
        "\n",
        "import xgboost as xgb\n",
        "model_xgb=xgb.XGBClassifier(random_state=42,n_estimators=200)\n",
        "model_xgb.fit(X_train,y_train)\n",
        "\n",
        "y_pred = model.predict(X_test)\n",
        "print_scores(y_test,y_pred)"
      ]
    },
    {
      "cell_type": "markdown",
      "metadata": {},
      "source": [
        "# Train model voi tap du lieu da duoc can bang\n",
        "# Dieu chinh tap du lieu bang ham\n",
        "\n",
        "### Thuc hien over sampling can bang bang phuong phap SMOTE: tao moi cac diem du lieu da co dua tren cac diem co san"
      ]
    },
    {
      "cell_type": "code",
      "execution_count": 32,
      "metadata": {},
      "outputs": [
        {
          "data": {
            "text/plain": [
              "((10326, 28), (10326,))"
            ]
          },
          "execution_count": 32,
          "metadata": {},
          "output_type": "execute_result"
        }
      ],
      "source": [
        "# Tao tap dau vao, dau ra\n",
        "X = customer_dummy.drop(['Churn'], axis= 1)\n",
        "y = customer_dummy['Churn']\n",
        "\n",
        "# Goi ham SMOTE sinh du lieu\n",
        "from imblearn.over_sampling import SMOTE\n",
        "sm = SMOTE()\n",
        "\n",
        "# Tao tap du lieu moi can bang\n",
        "X_ms, y_ms = sm.fit_resample(X, y)\n",
        "\n",
        "# Chia tap train, test\n",
        "X_train, X_test, y_train, y_test = train_test_split(X_ms,y_ms,test_size = 0.2,random_state=42)\n",
        "X_ms.shape, y_ms.shape"
      ]
    },
    {
      "cell_type": "code",
      "execution_count": 33,
      "metadata": {},
      "outputs": [
        {
          "name": "stdout",
          "output_type": "stream",
          "text": [
            "              precision    recall  f1-score   support\n",
            "\n",
            "           0       0.81      0.75      0.78      1037\n",
            "           1       0.77      0.82      0.79      1029\n",
            "\n",
            "    accuracy                           0.79      2066\n",
            "   macro avg       0.79      0.79      0.79      2066\n",
            "weighted avg       0.79      0.79      0.79      2066\n",
            "\n"
          ]
        }
      ],
      "source": [
        "# LogisticRegression\n",
        "#Khoi tao\n",
        "model = LogisticRegression()\n",
        "\n",
        "#Fit voi du lieu train\n",
        "model.fit(X_train,y_train)\n",
        "\n",
        "#Du doan du lieu test\n",
        "y_pred=model.predict(X_test)\n",
        "\n",
        "#in ra ket qua\n",
        "print_scores(y_test,y_pred)"
      ]
    },
    {
      "cell_type": "code",
      "execution_count": 34,
      "metadata": {},
      "outputs": [
        {
          "name": "stdout",
          "output_type": "stream",
          "text": [
            "              precision    recall  f1-score   support\n",
            "\n",
            "           0       0.84      0.81      0.83      1037\n",
            "           1       0.81      0.85      0.83      1029\n",
            "\n",
            "    accuracy                           0.83      2066\n",
            "   macro avg       0.83      0.83      0.83      2066\n",
            "weighted avg       0.83      0.83      0.83      2066\n",
            "\n"
          ]
        }
      ],
      "source": [
        "# Random forest\n",
        "from sklearn.ensemble import RandomForestClassifier\n",
        "\n",
        "model_RFC = RandomForestClassifier(n_estimators = 200,random_state=42)\n",
        "model_RFC.fit(X_train,y_train)\n",
        "y_pred=model_RFC.predict(X_test)\n",
        "\n",
        "print_scores(y_test,y_pred)"
      ]
    },
    {
      "cell_type": "code",
      "execution_count": 35,
      "metadata": {},
      "outputs": [
        {
          "name": "stdout",
          "output_type": "stream",
          "text": [
            "              precision    recall  f1-score   support\n",
            "\n",
            "           0       0.84      0.81      0.83      1037\n",
            "           1       0.81      0.85      0.83      1029\n",
            "\n",
            "    accuracy                           0.83      2066\n",
            "   macro avg       0.83      0.83      0.83      2066\n",
            "weighted avg       0.83      0.83      0.83      2066\n",
            "\n"
          ]
        }
      ],
      "source": [
        "# Gradient Boosting\n",
        "from sklearn.ensemble import GradientBoostingClassifier\n",
        "\n",
        "model=GradientBoostingClassifier(learning_rate=0.01,random_state=42,n_estimators=200)\n",
        "model.fit(X_train,y_train)\n",
        "ypred=model.predict(X_test)\n",
        "\n",
        "print_scores(y_test,y_pred)"
      ]
    },
    {
      "cell_type": "code",
      "execution_count": 36,
      "metadata": {},
      "outputs": [
        {
          "name": "stdout",
          "output_type": "stream",
          "text": [
            "              precision    recall  f1-score   support\n",
            "\n",
            "           0       0.82      0.71      0.76      1037\n",
            "           1       0.74      0.84      0.79      1029\n",
            "\n",
            "    accuracy                           0.78      2066\n",
            "   macro avg       0.78      0.78      0.78      2066\n",
            "weighted avg       0.78      0.78      0.78      2066\n",
            "\n"
          ]
        }
      ],
      "source": [
        "# Xgboss\n",
        "\n",
        "import xgboost as xgb\n",
        "model_xgb=xgb.XGBClassifier(random_state=42,n_estimators=200)\n",
        "model_xgb.fit(X_train,y_train)\n",
        "\n",
        "y_pred = model.predict(X_test)\n",
        "print_scores(y_test,y_pred)"
      ]
    },
    {
      "cell_type": "code",
      "execution_count": 52,
      "metadata": {},
      "outputs": [],
      "source": [
        "test = X_test\n",
        "test['Churn'] = y_pred\n"
      ]
    },
    {
      "cell_type": "code",
      "execution_count": 56,
      "metadata": {},
      "outputs": [
        {
          "data": {
            "text/html": [
              "<div>\n",
              "<style scoped>\n",
              "    .dataframe tbody tr th:only-of-type {\n",
              "        vertical-align: middle;\n",
              "    }\n",
              "\n",
              "    .dataframe tbody tr th {\n",
              "        vertical-align: top;\n",
              "    }\n",
              "\n",
              "    .dataframe thead th {\n",
              "        text-align: right;\n",
              "    }\n",
              "</style>\n",
              "<table border=\"1\" class=\"dataframe\">\n",
              "  <thead>\n",
              "    <tr style=\"text-align: right;\">\n",
              "      <th></th>\n",
              "      <th>SeniorCitizen</th>\n",
              "      <th>tenure</th>\n",
              "      <th>TotalCharges</th>\n",
              "      <th>Partner_Yes</th>\n",
              "      <th>Dependents_Yes</th>\n",
              "      <th>PhoneService_Yes</th>\n",
              "      <th>MultipleLines_No phone service</th>\n",
              "      <th>MultipleLines_Yes</th>\n",
              "      <th>InternetService_Fiber optic</th>\n",
              "      <th>InternetService_No</th>\n",
              "      <th>...</th>\n",
              "      <th>StreamingTV_Yes</th>\n",
              "      <th>StreamingMovies_No internet service</th>\n",
              "      <th>StreamingMovies_Yes</th>\n",
              "      <th>Contract_One year</th>\n",
              "      <th>Contract_Two year</th>\n",
              "      <th>PaperlessBilling_Yes</th>\n",
              "      <th>PaymentMethod_Credit card (automatic)</th>\n",
              "      <th>PaymentMethod_Electronic check</th>\n",
              "      <th>PaymentMethod_Mailed check</th>\n",
              "      <th>Churn</th>\n",
              "    </tr>\n",
              "  </thead>\n",
              "  <tbody>\n",
              "    <tr>\n",
              "      <th>4139</th>\n",
              "      <td>4329</td>\n",
              "      <td>0.486111</td>\n",
              "      <td>0.295107</td>\n",
              "      <td>1</td>\n",
              "      <td>0</td>\n",
              "      <td>1</td>\n",
              "      <td>0</td>\n",
              "      <td>1</td>\n",
              "      <td>1</td>\n",
              "      <td>0</td>\n",
              "      <td>...</td>\n",
              "      <td>0</td>\n",
              "      <td>0</td>\n",
              "      <td>0</td>\n",
              "      <td>0</td>\n",
              "      <td>0</td>\n",
              "      <td>1</td>\n",
              "      <td>0</td>\n",
              "      <td>1</td>\n",
              "      <td>0</td>\n",
              "      <td>1</td>\n",
              "    </tr>\n",
              "    <tr>\n",
              "      <th>1692</th>\n",
              "      <td>4329</td>\n",
              "      <td>0.875000</td>\n",
              "      <td>0.541086</td>\n",
              "      <td>1</td>\n",
              "      <td>1</td>\n",
              "      <td>1</td>\n",
              "      <td>0</td>\n",
              "      <td>0</td>\n",
              "      <td>0</td>\n",
              "      <td>0</td>\n",
              "      <td>...</td>\n",
              "      <td>1</td>\n",
              "      <td>0</td>\n",
              "      <td>0</td>\n",
              "      <td>0</td>\n",
              "      <td>1</td>\n",
              "      <td>0</td>\n",
              "      <td>1</td>\n",
              "      <td>0</td>\n",
              "      <td>0</td>\n",
              "      <td>0</td>\n",
              "    </tr>\n",
              "    <tr>\n",
              "      <th>2692</th>\n",
              "      <td>4329</td>\n",
              "      <td>0.986111</td>\n",
              "      <td>0.732351</td>\n",
              "      <td>1</td>\n",
              "      <td>0</td>\n",
              "      <td>1</td>\n",
              "      <td>0</td>\n",
              "      <td>1</td>\n",
              "      <td>0</td>\n",
              "      <td>0</td>\n",
              "      <td>...</td>\n",
              "      <td>1</td>\n",
              "      <td>0</td>\n",
              "      <td>1</td>\n",
              "      <td>0</td>\n",
              "      <td>1</td>\n",
              "      <td>0</td>\n",
              "      <td>0</td>\n",
              "      <td>0</td>\n",
              "      <td>0</td>\n",
              "      <td>0</td>\n",
              "    </tr>\n",
              "    <tr>\n",
              "      <th>7704</th>\n",
              "      <td>4329</td>\n",
              "      <td>0.026968</td>\n",
              "      <td>0.003307</td>\n",
              "      <td>1</td>\n",
              "      <td>1</td>\n",
              "      <td>1</td>\n",
              "      <td>0</td>\n",
              "      <td>0</td>\n",
              "      <td>0</td>\n",
              "      <td>1</td>\n",
              "      <td>...</td>\n",
              "      <td>0</td>\n",
              "      <td>1</td>\n",
              "      <td>0</td>\n",
              "      <td>0</td>\n",
              "      <td>0</td>\n",
              "      <td>1</td>\n",
              "      <td>0</td>\n",
              "      <td>0</td>\n",
              "      <td>0</td>\n",
              "      <td>1</td>\n",
              "    </tr>\n",
              "    <tr>\n",
              "      <th>321</th>\n",
              "      <td>4329</td>\n",
              "      <td>1.000000</td>\n",
              "      <td>0.489868</td>\n",
              "      <td>1</td>\n",
              "      <td>1</td>\n",
              "      <td>0</td>\n",
              "      <td>1</td>\n",
              "      <td>0</td>\n",
              "      <td>0</td>\n",
              "      <td>0</td>\n",
              "      <td>...</td>\n",
              "      <td>1</td>\n",
              "      <td>0</td>\n",
              "      <td>1</td>\n",
              "      <td>0</td>\n",
              "      <td>1</td>\n",
              "      <td>1</td>\n",
              "      <td>0</td>\n",
              "      <td>1</td>\n",
              "      <td>0</td>\n",
              "      <td>0</td>\n",
              "    </tr>\n",
              "    <tr>\n",
              "      <th>...</th>\n",
              "      <td>...</td>\n",
              "      <td>...</td>\n",
              "      <td>...</td>\n",
              "      <td>...</td>\n",
              "      <td>...</td>\n",
              "      <td>...</td>\n",
              "      <td>...</td>\n",
              "      <td>...</td>\n",
              "      <td>...</td>\n",
              "      <td>...</td>\n",
              "      <td>...</td>\n",
              "      <td>...</td>\n",
              "      <td>...</td>\n",
              "      <td>...</td>\n",
              "      <td>...</td>\n",
              "      <td>...</td>\n",
              "      <td>...</td>\n",
              "      <td>...</td>\n",
              "      <td>...</td>\n",
              "      <td>...</td>\n",
              "      <td>...</td>\n",
              "    </tr>\n",
              "    <tr>\n",
              "      <th>4329</th>\n",
              "      <td>4329</td>\n",
              "      <td>1.000000</td>\n",
              "      <td>0.891749</td>\n",
              "      <td>0</td>\n",
              "      <td>0</td>\n",
              "      <td>1</td>\n",
              "      <td>0</td>\n",
              "      <td>1</td>\n",
              "      <td>1</td>\n",
              "      <td>0</td>\n",
              "      <td>...</td>\n",
              "      <td>1</td>\n",
              "      <td>0</td>\n",
              "      <td>1</td>\n",
              "      <td>0</td>\n",
              "      <td>1</td>\n",
              "      <td>1</td>\n",
              "      <td>0</td>\n",
              "      <td>0</td>\n",
              "      <td>0</td>\n",
              "      <td>0</td>\n",
              "    </tr>\n",
              "    <tr>\n",
              "      <th>4528</th>\n",
              "      <td>4329</td>\n",
              "      <td>0.013889</td>\n",
              "      <td>0.005833</td>\n",
              "      <td>0</td>\n",
              "      <td>0</td>\n",
              "      <td>1</td>\n",
              "      <td>0</td>\n",
              "      <td>0</td>\n",
              "      <td>1</td>\n",
              "      <td>0</td>\n",
              "      <td>...</td>\n",
              "      <td>0</td>\n",
              "      <td>0</td>\n",
              "      <td>0</td>\n",
              "      <td>0</td>\n",
              "      <td>0</td>\n",
              "      <td>1</td>\n",
              "      <td>0</td>\n",
              "      <td>1</td>\n",
              "      <td>0</td>\n",
              "      <td>1</td>\n",
              "    </tr>\n",
              "    <tr>\n",
              "      <th>8074</th>\n",
              "      <td>4329</td>\n",
              "      <td>0.118852</td>\n",
              "      <td>0.093723</td>\n",
              "      <td>1</td>\n",
              "      <td>0</td>\n",
              "      <td>1</td>\n",
              "      <td>0</td>\n",
              "      <td>1</td>\n",
              "      <td>1</td>\n",
              "      <td>0</td>\n",
              "      <td>...</td>\n",
              "      <td>1</td>\n",
              "      <td>0</td>\n",
              "      <td>1</td>\n",
              "      <td>0</td>\n",
              "      <td>0</td>\n",
              "      <td>1</td>\n",
              "      <td>0</td>\n",
              "      <td>1</td>\n",
              "      <td>0</td>\n",
              "      <td>1</td>\n",
              "    </tr>\n",
              "    <tr>\n",
              "      <th>4730</th>\n",
              "      <td>4329</td>\n",
              "      <td>0.069444</td>\n",
              "      <td>0.060362</td>\n",
              "      <td>0</td>\n",
              "      <td>0</td>\n",
              "      <td>1</td>\n",
              "      <td>0</td>\n",
              "      <td>1</td>\n",
              "      <td>1</td>\n",
              "      <td>0</td>\n",
              "      <td>...</td>\n",
              "      <td>1</td>\n",
              "      <td>0</td>\n",
              "      <td>1</td>\n",
              "      <td>0</td>\n",
              "      <td>0</td>\n",
              "      <td>0</td>\n",
              "      <td>0</td>\n",
              "      <td>0</td>\n",
              "      <td>1</td>\n",
              "      <td>1</td>\n",
              "    </tr>\n",
              "    <tr>\n",
              "      <th>3381</th>\n",
              "      <td>4329</td>\n",
              "      <td>0.097222</td>\n",
              "      <td>0.015820</td>\n",
              "      <td>0</td>\n",
              "      <td>0</td>\n",
              "      <td>1</td>\n",
              "      <td>0</td>\n",
              "      <td>0</td>\n",
              "      <td>0</td>\n",
              "      <td>1</td>\n",
              "      <td>...</td>\n",
              "      <td>0</td>\n",
              "      <td>1</td>\n",
              "      <td>0</td>\n",
              "      <td>0</td>\n",
              "      <td>0</td>\n",
              "      <td>0</td>\n",
              "      <td>0</td>\n",
              "      <td>0</td>\n",
              "      <td>1</td>\n",
              "      <td>0</td>\n",
              "    </tr>\n",
              "  </tbody>\n",
              "</table>\n",
              "<p>2066 rows × 29 columns</p>\n",
              "</div>"
            ],
            "text/plain": [
              "      SeniorCitizen    tenure  TotalCharges  Partner_Yes  Dependents_Yes  \\\n",
              "4139           4329  0.486111      0.295107            1               0   \n",
              "1692           4329  0.875000      0.541086            1               1   \n",
              "2692           4329  0.986111      0.732351            1               0   \n",
              "7704           4329  0.026968      0.003307            1               1   \n",
              "321            4329  1.000000      0.489868            1               1   \n",
              "...             ...       ...           ...          ...             ...   \n",
              "4329           4329  1.000000      0.891749            0               0   \n",
              "4528           4329  0.013889      0.005833            0               0   \n",
              "8074           4329  0.118852      0.093723            1               0   \n",
              "4730           4329  0.069444      0.060362            0               0   \n",
              "3381           4329  0.097222      0.015820            0               0   \n",
              "\n",
              "      PhoneService_Yes  MultipleLines_No phone service  MultipleLines_Yes  \\\n",
              "4139                 1                               0                  1   \n",
              "1692                 1                               0                  0   \n",
              "2692                 1                               0                  1   \n",
              "7704                 1                               0                  0   \n",
              "321                  0                               1                  0   \n",
              "...                ...                             ...                ...   \n",
              "4329                 1                               0                  1   \n",
              "4528                 1                               0                  0   \n",
              "8074                 1                               0                  1   \n",
              "4730                 1                               0                  1   \n",
              "3381                 1                               0                  0   \n",
              "\n",
              "      InternetService_Fiber optic  InternetService_No  ...  StreamingTV_Yes  \\\n",
              "4139                            1                   0  ...                0   \n",
              "1692                            0                   0  ...                1   \n",
              "2692                            0                   0  ...                1   \n",
              "7704                            0                   1  ...                0   \n",
              "321                             0                   0  ...                1   \n",
              "...                           ...                 ...  ...              ...   \n",
              "4329                            1                   0  ...                1   \n",
              "4528                            1                   0  ...                0   \n",
              "8074                            1                   0  ...                1   \n",
              "4730                            1                   0  ...                1   \n",
              "3381                            0                   1  ...                0   \n",
              "\n",
              "      StreamingMovies_No internet service  StreamingMovies_Yes  \\\n",
              "4139                                    0                    0   \n",
              "1692                                    0                    0   \n",
              "2692                                    0                    1   \n",
              "7704                                    1                    0   \n",
              "321                                     0                    1   \n",
              "...                                   ...                  ...   \n",
              "4329                                    0                    1   \n",
              "4528                                    0                    0   \n",
              "8074                                    0                    1   \n",
              "4730                                    0                    1   \n",
              "3381                                    1                    0   \n",
              "\n",
              "      Contract_One year  Contract_Two year  PaperlessBilling_Yes  \\\n",
              "4139                  0                  0                     1   \n",
              "1692                  0                  1                     0   \n",
              "2692                  0                  1                     0   \n",
              "7704                  0                  0                     1   \n",
              "321                   0                  1                     1   \n",
              "...                 ...                ...                   ...   \n",
              "4329                  0                  1                     1   \n",
              "4528                  0                  0                     1   \n",
              "8074                  0                  0                     1   \n",
              "4730                  0                  0                     0   \n",
              "3381                  0                  0                     0   \n",
              "\n",
              "      PaymentMethod_Credit card (automatic)  PaymentMethod_Electronic check  \\\n",
              "4139                                      0                               1   \n",
              "1692                                      1                               0   \n",
              "2692                                      0                               0   \n",
              "7704                                      0                               0   \n",
              "321                                       0                               1   \n",
              "...                                     ...                             ...   \n",
              "4329                                      0                               0   \n",
              "4528                                      0                               1   \n",
              "8074                                      0                               1   \n",
              "4730                                      0                               0   \n",
              "3381                                      0                               0   \n",
              "\n",
              "      PaymentMethod_Mailed check  Churn  \n",
              "4139                           0      1  \n",
              "1692                           0      0  \n",
              "2692                           0      0  \n",
              "7704                           0      1  \n",
              "321                            0      0  \n",
              "...                          ...    ...  \n",
              "4329                           0      0  \n",
              "4528                           0      1  \n",
              "8074                           0      1  \n",
              "4730                           1      1  \n",
              "3381                           1      0  \n",
              "\n",
              "[2066 rows x 29 columns]"
            ]
          },
          "execution_count": 56,
          "metadata": {},
          "output_type": "execute_result"
        }
      ],
      "source": [
        "test"
      ]
    },
    {
      "cell_type": "code",
      "execution_count": 58,
      "metadata": {},
      "outputs": [
        {
          "data": {
            "text/html": [
              "<div>\n",
              "<style scoped>\n",
              "    .dataframe tbody tr th:only-of-type {\n",
              "        vertical-align: middle;\n",
              "    }\n",
              "\n",
              "    .dataframe tbody tr th {\n",
              "        vertical-align: top;\n",
              "    }\n",
              "\n",
              "    .dataframe thead th {\n",
              "        text-align: right;\n",
              "    }\n",
              "</style>\n",
              "<table border=\"1\" class=\"dataframe\">\n",
              "  <thead>\n",
              "    <tr style=\"text-align: right;\">\n",
              "      <th></th>\n",
              "      <th>SeniorCitizen</th>\n",
              "      <th>tenure</th>\n",
              "      <th>TotalCharges</th>\n",
              "      <th>Partner_Yes</th>\n",
              "      <th>Dependents_Yes</th>\n",
              "      <th>PhoneService_Yes</th>\n",
              "      <th>MultipleLines_No phone service</th>\n",
              "      <th>MultipleLines_Yes</th>\n",
              "      <th>InternetService_Fiber optic</th>\n",
              "      <th>InternetService_No</th>\n",
              "      <th>...</th>\n",
              "      <th>StreamingTV_Yes</th>\n",
              "      <th>StreamingMovies_No internet service</th>\n",
              "      <th>StreamingMovies_Yes</th>\n",
              "      <th>Contract_One year</th>\n",
              "      <th>Contract_Two year</th>\n",
              "      <th>PaperlessBilling_Yes</th>\n",
              "      <th>PaymentMethod_Credit card (automatic)</th>\n",
              "      <th>PaymentMethod_Electronic check</th>\n",
              "      <th>PaymentMethod_Mailed check</th>\n",
              "      <th>Churn</th>\n",
              "    </tr>\n",
              "  </thead>\n",
              "  <tbody>\n",
              "    <tr>\n",
              "      <th>4139</th>\n",
              "      <td>4329</td>\n",
              "      <td>0.486111</td>\n",
              "      <td>0.295107</td>\n",
              "      <td>1</td>\n",
              "      <td>0</td>\n",
              "      <td>1</td>\n",
              "      <td>0</td>\n",
              "      <td>1</td>\n",
              "      <td>1</td>\n",
              "      <td>0</td>\n",
              "      <td>...</td>\n",
              "      <td>0</td>\n",
              "      <td>0</td>\n",
              "      <td>0</td>\n",
              "      <td>0</td>\n",
              "      <td>0</td>\n",
              "      <td>1</td>\n",
              "      <td>0</td>\n",
              "      <td>1</td>\n",
              "      <td>0</td>\n",
              "      <td>1</td>\n",
              "    </tr>\n",
              "    <tr>\n",
              "      <th>1692</th>\n",
              "      <td>4329</td>\n",
              "      <td>0.875000</td>\n",
              "      <td>0.541086</td>\n",
              "      <td>1</td>\n",
              "      <td>1</td>\n",
              "      <td>1</td>\n",
              "      <td>0</td>\n",
              "      <td>0</td>\n",
              "      <td>0</td>\n",
              "      <td>0</td>\n",
              "      <td>...</td>\n",
              "      <td>1</td>\n",
              "      <td>0</td>\n",
              "      <td>0</td>\n",
              "      <td>0</td>\n",
              "      <td>1</td>\n",
              "      <td>0</td>\n",
              "      <td>1</td>\n",
              "      <td>0</td>\n",
              "      <td>0</td>\n",
              "      <td>0</td>\n",
              "    </tr>\n",
              "    <tr>\n",
              "      <th>2692</th>\n",
              "      <td>4329</td>\n",
              "      <td>0.986111</td>\n",
              "      <td>0.732351</td>\n",
              "      <td>1</td>\n",
              "      <td>0</td>\n",
              "      <td>1</td>\n",
              "      <td>0</td>\n",
              "      <td>1</td>\n",
              "      <td>0</td>\n",
              "      <td>0</td>\n",
              "      <td>...</td>\n",
              "      <td>1</td>\n",
              "      <td>0</td>\n",
              "      <td>1</td>\n",
              "      <td>0</td>\n",
              "      <td>1</td>\n",
              "      <td>0</td>\n",
              "      <td>0</td>\n",
              "      <td>0</td>\n",
              "      <td>0</td>\n",
              "      <td>0</td>\n",
              "    </tr>\n",
              "    <tr>\n",
              "      <th>7704</th>\n",
              "      <td>4329</td>\n",
              "      <td>0.026968</td>\n",
              "      <td>0.003307</td>\n",
              "      <td>1</td>\n",
              "      <td>1</td>\n",
              "      <td>1</td>\n",
              "      <td>0</td>\n",
              "      <td>0</td>\n",
              "      <td>0</td>\n",
              "      <td>1</td>\n",
              "      <td>...</td>\n",
              "      <td>0</td>\n",
              "      <td>1</td>\n",
              "      <td>0</td>\n",
              "      <td>0</td>\n",
              "      <td>0</td>\n",
              "      <td>1</td>\n",
              "      <td>0</td>\n",
              "      <td>0</td>\n",
              "      <td>0</td>\n",
              "      <td>1</td>\n",
              "    </tr>\n",
              "    <tr>\n",
              "      <th>321</th>\n",
              "      <td>4329</td>\n",
              "      <td>1.000000</td>\n",
              "      <td>0.489868</td>\n",
              "      <td>1</td>\n",
              "      <td>1</td>\n",
              "      <td>0</td>\n",
              "      <td>1</td>\n",
              "      <td>0</td>\n",
              "      <td>0</td>\n",
              "      <td>0</td>\n",
              "      <td>...</td>\n",
              "      <td>1</td>\n",
              "      <td>0</td>\n",
              "      <td>1</td>\n",
              "      <td>0</td>\n",
              "      <td>1</td>\n",
              "      <td>1</td>\n",
              "      <td>0</td>\n",
              "      <td>1</td>\n",
              "      <td>0</td>\n",
              "      <td>0</td>\n",
              "    </tr>\n",
              "    <tr>\n",
              "      <th>...</th>\n",
              "      <td>...</td>\n",
              "      <td>...</td>\n",
              "      <td>...</td>\n",
              "      <td>...</td>\n",
              "      <td>...</td>\n",
              "      <td>...</td>\n",
              "      <td>...</td>\n",
              "      <td>...</td>\n",
              "      <td>...</td>\n",
              "      <td>...</td>\n",
              "      <td>...</td>\n",
              "      <td>...</td>\n",
              "      <td>...</td>\n",
              "      <td>...</td>\n",
              "      <td>...</td>\n",
              "      <td>...</td>\n",
              "      <td>...</td>\n",
              "      <td>...</td>\n",
              "      <td>...</td>\n",
              "      <td>...</td>\n",
              "      <td>...</td>\n",
              "    </tr>\n",
              "    <tr>\n",
              "      <th>4329</th>\n",
              "      <td>4329</td>\n",
              "      <td>1.000000</td>\n",
              "      <td>0.891749</td>\n",
              "      <td>0</td>\n",
              "      <td>0</td>\n",
              "      <td>1</td>\n",
              "      <td>0</td>\n",
              "      <td>1</td>\n",
              "      <td>1</td>\n",
              "      <td>0</td>\n",
              "      <td>...</td>\n",
              "      <td>1</td>\n",
              "      <td>0</td>\n",
              "      <td>1</td>\n",
              "      <td>0</td>\n",
              "      <td>1</td>\n",
              "      <td>1</td>\n",
              "      <td>0</td>\n",
              "      <td>0</td>\n",
              "      <td>0</td>\n",
              "      <td>0</td>\n",
              "    </tr>\n",
              "    <tr>\n",
              "      <th>4528</th>\n",
              "      <td>4329</td>\n",
              "      <td>0.013889</td>\n",
              "      <td>0.005833</td>\n",
              "      <td>0</td>\n",
              "      <td>0</td>\n",
              "      <td>1</td>\n",
              "      <td>0</td>\n",
              "      <td>0</td>\n",
              "      <td>1</td>\n",
              "      <td>0</td>\n",
              "      <td>...</td>\n",
              "      <td>0</td>\n",
              "      <td>0</td>\n",
              "      <td>0</td>\n",
              "      <td>0</td>\n",
              "      <td>0</td>\n",
              "      <td>1</td>\n",
              "      <td>0</td>\n",
              "      <td>1</td>\n",
              "      <td>0</td>\n",
              "      <td>1</td>\n",
              "    </tr>\n",
              "    <tr>\n",
              "      <th>8074</th>\n",
              "      <td>4329</td>\n",
              "      <td>0.118852</td>\n",
              "      <td>0.093723</td>\n",
              "      <td>1</td>\n",
              "      <td>0</td>\n",
              "      <td>1</td>\n",
              "      <td>0</td>\n",
              "      <td>1</td>\n",
              "      <td>1</td>\n",
              "      <td>0</td>\n",
              "      <td>...</td>\n",
              "      <td>1</td>\n",
              "      <td>0</td>\n",
              "      <td>1</td>\n",
              "      <td>0</td>\n",
              "      <td>0</td>\n",
              "      <td>1</td>\n",
              "      <td>0</td>\n",
              "      <td>1</td>\n",
              "      <td>0</td>\n",
              "      <td>1</td>\n",
              "    </tr>\n",
              "    <tr>\n",
              "      <th>4730</th>\n",
              "      <td>4329</td>\n",
              "      <td>0.069444</td>\n",
              "      <td>0.060362</td>\n",
              "      <td>0</td>\n",
              "      <td>0</td>\n",
              "      <td>1</td>\n",
              "      <td>0</td>\n",
              "      <td>1</td>\n",
              "      <td>1</td>\n",
              "      <td>0</td>\n",
              "      <td>...</td>\n",
              "      <td>1</td>\n",
              "      <td>0</td>\n",
              "      <td>1</td>\n",
              "      <td>0</td>\n",
              "      <td>0</td>\n",
              "      <td>0</td>\n",
              "      <td>0</td>\n",
              "      <td>0</td>\n",
              "      <td>1</td>\n",
              "      <td>1</td>\n",
              "    </tr>\n",
              "    <tr>\n",
              "      <th>3381</th>\n",
              "      <td>4329</td>\n",
              "      <td>0.097222</td>\n",
              "      <td>0.015820</td>\n",
              "      <td>0</td>\n",
              "      <td>0</td>\n",
              "      <td>1</td>\n",
              "      <td>0</td>\n",
              "      <td>0</td>\n",
              "      <td>0</td>\n",
              "      <td>1</td>\n",
              "      <td>...</td>\n",
              "      <td>0</td>\n",
              "      <td>1</td>\n",
              "      <td>0</td>\n",
              "      <td>0</td>\n",
              "      <td>0</td>\n",
              "      <td>0</td>\n",
              "      <td>0</td>\n",
              "      <td>0</td>\n",
              "      <td>1</td>\n",
              "      <td>0</td>\n",
              "    </tr>\n",
              "  </tbody>\n",
              "</table>\n",
              "<p>2066 rows × 29 columns</p>\n",
              "</div>"
            ],
            "text/plain": [
              "      SeniorCitizen    tenure  TotalCharges  Partner_Yes  Dependents_Yes  \\\n",
              "4139           4329  0.486111      0.295107            1               0   \n",
              "1692           4329  0.875000      0.541086            1               1   \n",
              "2692           4329  0.986111      0.732351            1               0   \n",
              "7704           4329  0.026968      0.003307            1               1   \n",
              "321            4329  1.000000      0.489868            1               1   \n",
              "...             ...       ...           ...          ...             ...   \n",
              "4329           4329  1.000000      0.891749            0               0   \n",
              "4528           4329  0.013889      0.005833            0               0   \n",
              "8074           4329  0.118852      0.093723            1               0   \n",
              "4730           4329  0.069444      0.060362            0               0   \n",
              "3381           4329  0.097222      0.015820            0               0   \n",
              "\n",
              "      PhoneService_Yes  MultipleLines_No phone service  MultipleLines_Yes  \\\n",
              "4139                 1                               0                  1   \n",
              "1692                 1                               0                  0   \n",
              "2692                 1                               0                  1   \n",
              "7704                 1                               0                  0   \n",
              "321                  0                               1                  0   \n",
              "...                ...                             ...                ...   \n",
              "4329                 1                               0                  1   \n",
              "4528                 1                               0                  0   \n",
              "8074                 1                               0                  1   \n",
              "4730                 1                               0                  1   \n",
              "3381                 1                               0                  0   \n",
              "\n",
              "      InternetService_Fiber optic  InternetService_No  ...  StreamingTV_Yes  \\\n",
              "4139                            1                   0  ...                0   \n",
              "1692                            0                   0  ...                1   \n",
              "2692                            0                   0  ...                1   \n",
              "7704                            0                   1  ...                0   \n",
              "321                             0                   0  ...                1   \n",
              "...                           ...                 ...  ...              ...   \n",
              "4329                            1                   0  ...                1   \n",
              "4528                            1                   0  ...                0   \n",
              "8074                            1                   0  ...                1   \n",
              "4730                            1                   0  ...                1   \n",
              "3381                            0                   1  ...                0   \n",
              "\n",
              "      StreamingMovies_No internet service  StreamingMovies_Yes  \\\n",
              "4139                                    0                    0   \n",
              "1692                                    0                    0   \n",
              "2692                                    0                    1   \n",
              "7704                                    1                    0   \n",
              "321                                     0                    1   \n",
              "...                                   ...                  ...   \n",
              "4329                                    0                    1   \n",
              "4528                                    0                    0   \n",
              "8074                                    0                    1   \n",
              "4730                                    0                    1   \n",
              "3381                                    1                    0   \n",
              "\n",
              "      Contract_One year  Contract_Two year  PaperlessBilling_Yes  \\\n",
              "4139                  0                  0                     1   \n",
              "1692                  0                  1                     0   \n",
              "2692                  0                  1                     0   \n",
              "7704                  0                  0                     1   \n",
              "321                   0                  1                     1   \n",
              "...                 ...                ...                   ...   \n",
              "4329                  0                  1                     1   \n",
              "4528                  0                  0                     1   \n",
              "8074                  0                  0                     1   \n",
              "4730                  0                  0                     0   \n",
              "3381                  0                  0                     0   \n",
              "\n",
              "      PaymentMethod_Credit card (automatic)  PaymentMethod_Electronic check  \\\n",
              "4139                                      0                               1   \n",
              "1692                                      1                               0   \n",
              "2692                                      0                               0   \n",
              "7704                                      0                               0   \n",
              "321                                       0                               1   \n",
              "...                                     ...                             ...   \n",
              "4329                                      0                               0   \n",
              "4528                                      0                               1   \n",
              "8074                                      0                               1   \n",
              "4730                                      0                               0   \n",
              "3381                                      0                               0   \n",
              "\n",
              "      PaymentMethod_Mailed check  Churn  \n",
              "4139                           0      1  \n",
              "1692                           0      0  \n",
              "2692                           0      0  \n",
              "7704                           0      1  \n",
              "321                            0      0  \n",
              "...                          ...    ...  \n",
              "4329                           0      0  \n",
              "4528                           0      1  \n",
              "8074                           0      1  \n",
              "4730                           1      1  \n",
              "3381                           1      0  \n",
              "\n",
              "[2066 rows x 29 columns]"
            ]
          },
          "execution_count": 58,
          "metadata": {},
          "output_type": "execute_result"
        }
      ],
      "source": [
        "test[test['SeniorCitizen'] == 4329]"
      ]
    }
  ],
  "metadata": {
    "colab": {
      "collapsed_sections": [],
      "name": "customer_churn.ipynb",
      "provenance": []
    },
    "kernelspec": {
      "display_name": "Python 3.9.13 64-bit (windows store)",
      "language": "python",
      "name": "python3"
    },
    "language_info": {
      "codemirror_mode": {
        "name": "ipython",
        "version": 3
      },
      "file_extension": ".py",
      "mimetype": "text/x-python",
      "name": "python",
      "nbconvert_exporter": "python",
      "pygments_lexer": "ipython3",
      "version": "3.9.13"
    },
    "vscode": {
      "interpreter": {
        "hash": "8040ecc2fd8ec8fc943a90bf9dbaa8101c3a63f3ea75b44f256ab98cbd50dd37"
      }
    }
  },
  "nbformat": 4,
  "nbformat_minor": 0
}
